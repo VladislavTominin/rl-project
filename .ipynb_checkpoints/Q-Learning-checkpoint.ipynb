{
 "cells": [
  {
   "cell_type": "code",
   "execution_count": 2,
   "id": "4e522324",
   "metadata": {
    "scrolled": true
   },
   "outputs": [
    {
     "name": "stdout",
     "output_type": "stream",
     "text": [
      "\u001b[33mWARNING: Ignoring invalid distribution -ip (/Users/vlad/opt/anaconda3/lib/python3.9/site-packages)\u001b[0m\u001b[33m\n",
      "\u001b[0m\u001b[33mWARNING: Ignoring invalid distribution -ip (/Users/vlad/opt/anaconda3/lib/python3.9/site-packages)\u001b[0m\u001b[33m\n",
      "\u001b[0mFound existing installation: tensorflow 2.11.0\n",
      "Uninstalling tensorflow-2.11.0:\n",
      "  Successfully uninstalled tensorflow-2.11.0\n",
      "\u001b[33mWARNING: Ignoring invalid distribution -ip (/Users/vlad/opt/anaconda3/lib/python3.9/site-packages)\u001b[0m\u001b[33m\n",
      "\u001b[0m\u001b[33mWARNING: Ignoring invalid distribution -ip (/Users/vlad/opt/anaconda3/lib/python3.9/site-packages)\u001b[0m\u001b[33m\n",
      "\u001b[0m\u001b[31mERROR: Could not find a version that satisfies the requirement tensorflow-macos==2.8.0 (from versions: none)\u001b[0m\u001b[31m\n",
      "\u001b[0m\u001b[31mERROR: No matching distribution found for tensorflow-macos==2.8.0\u001b[0m\u001b[31m\n",
      "\u001b[0m\u001b[33mWARNING: Ignoring invalid distribution -ip (/Users/vlad/opt/anaconda3/lib/python3.9/site-packages)\u001b[0m\u001b[33m\n",
      "\u001b[0m\u001b[33mWARNING: Ignoring invalid distribution -ip (/Users/vlad/opt/anaconda3/lib/python3.9/site-packages)\u001b[0m\u001b[33m\n",
      "\u001b[0m\u001b[33mWARNING: Ignoring invalid distribution -ip (/Users/vlad/opt/anaconda3/lib/python3.9/site-packages)\u001b[0m\u001b[33m\n",
      "\u001b[0m"
     ]
    }
   ],
   "source": [
    "# !pip install tensorflow\n",
    "# !pip install gym\n",
    "# !pip install keras\n",
    "# !pip install keras-rl2\n",
    "# !pip install pygame\n",
    "! pip uninstall tensorflow -y\n",
    "! pip install tensorflow-macos==2.8.0"
   ]
  },
  {
   "cell_type": "code",
   "execution_count": 3,
   "id": "4daea275",
   "metadata": {},
   "outputs": [],
   "source": [
    "from gym import Env\n",
    "from gym.spaces import Discrete, Box\n",
    "import numpy as np\n",
    "import random\n",
    "from matplotlib import pyplot as plt\n",
    "import matplotlib.animation\n",
    "from IPython.display import display, clear_output\n",
    "import random\n",
    "import pygame"
   ]
  },
  {
   "cell_type": "code",
   "execution_count": 18,
   "id": "7eab60f6",
   "metadata": {},
   "outputs": [],
   "source": [
    "code2action = {\n",
    "    0:np.array([0, 0, 0, 0]),\n",
    "    1:np.array([0, 0, 1, 0]),\n",
    "    2:np.array([0, 0, -1, 0]),\n",
    "    3:np.array([0, 0, 0, 1]),\n",
    "    4:np.array([0, 0, 0, -1]),\n",
    "    5:np.array([0, 0, 1, 1]),\n",
    "    6:np.array([0, 0, 1, -1]),\n",
    "    7:np.array([0, 0, -1, 1]),\n",
    "    8:np.array([0, 0, -1, -1])\n",
    "}\n",
    "\n",
    "class ShrinkingCircleEnv(Env):\n",
    "    width = height = d = 10\n",
    "    time = 60\n",
    "    terminated_penalty = 1\n",
    "    window = None\n",
    "    window_size = 512\n",
    "    clock = None\n",
    "    metadata = {\"render_modes\": [\"human\", \"rgb_array\"], \"render_fps\": 15}\n",
    "    \n",
    "    def __init__(self):\n",
    "        self.action_space = Discrete(9)\n",
    "        self.bounds = np.array([self.height, self.width, self.height, self.width]) - 1\n",
    "        self.observation_space = Discrete(self.d**4)\n",
    "        \n",
    "        \n",
    "        self.state = (np.random.random_sample(size=4)*self.bounds).astype(int)\n",
    "        \n",
    "        self.circle_radius = 0\n",
    "        \n",
    "        self.timestamp = self.time\n",
    "        \n",
    "        # for rendering\n",
    "        self.log_circles = []\n",
    "        self.log_hero = []\n",
    "\n",
    "        \n",
    "        \n",
    "    def get_reward(self):\n",
    "        circle, hero = self.state[:2], self.state[2:]\n",
    "        return - np.linalg.norm(hero - circle)\n",
    "        \n",
    "    def step(self, action):\n",
    "        new_state = self.state + code2action[action]\n",
    "        terminated = not ((0 <= new_state).all() and (new_state < self.bounds).all())\n",
    "        \n",
    "        self.timestamp -= 1 \n",
    "        self.truncated = self.timestamp<=0\n",
    "        \n",
    "        reward = self.get_reward()\n",
    "        \n",
    "        # move center of circle with probability 0.2\n",
    "        if np.random.binomial(1, 0.2):\n",
    "            self.state = np.hstack((\n",
    "                new_state[:2] + random.choice(list(code2action.values()))[2:],\n",
    "                new_state[2:]\n",
    "            ))\n",
    "        \n",
    "        # to stay on the playing field\n",
    "        self.state = np.clip(self.state, np.zeros(4), self.bounds)\n",
    "            \n",
    "        info = {}\n",
    "        return self.state, reward, self.truncated, info\n",
    "    \n",
    "    def render(self, mode):\n",
    "        self.render_mode = mode\n",
    "        circle, hero = self.state[:2], self.state[2:]\n",
    "        self.log_circles.append(circle)\n",
    "        self.log_hero.append(hero)\n",
    "        \n",
    "        return self._render_frame()\n",
    "    \n",
    "    # inspired by https://www.gymlibrary.dev/content/environment_creation/\n",
    "    def _render_frame(self):\n",
    "        if self.window is None and self.render_mode == \"human\":\n",
    "            pygame.init()\n",
    "            pygame.display.init()\n",
    "            self.window = pygame.display.set_mode((self.window_size, self.window_size))\n",
    "        if self.clock is None and self.render_mode == \"human\":\n",
    "            self.clock = pygame.time.Clock()\n",
    "        \n",
    "        \n",
    "        circle, hero = self.state[:2], self.state[2:]\n",
    "        \n",
    "        canvas = pygame.Surface((self.window_size, self.window_size))\n",
    "        canvas.fill((255, 255, 255))\n",
    "        pix_square_size = (\n",
    "            self.window_size / self.d\n",
    "        )  # The size of a single grid square in pixels\n",
    "\n",
    "        # First we draw the hero\n",
    "        pygame.draw.rect(\n",
    "            canvas,\n",
    "            (255, 0, 0),\n",
    "            pygame.Rect(\n",
    "                pix_square_size * hero,\n",
    "                (pix_square_size, pix_square_size),\n",
    "            ),\n",
    "        )\n",
    "        # Now we draw the circle\n",
    "        pygame.draw.circle(\n",
    "            canvas,\n",
    "            (0, 0, 255),\n",
    "            (circle + 0.5) * pix_square_size,\n",
    "            pix_square_size / 3,\n",
    "        )\n",
    "\n",
    "        # Finally, add some gridlines\n",
    "        for x in range(self.d + 1):\n",
    "            pygame.draw.line(\n",
    "                canvas,\n",
    "                0,\n",
    "                (0, pix_square_size * x),\n",
    "                (self.window_size, pix_square_size * x),\n",
    "                width=3,\n",
    "            )\n",
    "            pygame.draw.line(\n",
    "                canvas,\n",
    "                0,\n",
    "                (pix_square_size * x, 0),\n",
    "                (pix_square_size * x, self.window_size),\n",
    "                width=3,\n",
    "            )\n",
    "        \n",
    "        font = pygame.font.Font(None, 25)\n",
    "        text = font.render(f\"Time remaining: {str(self.timestamp)}\", True,(0, 0, 128))\n",
    "        text_rect = text.get_rect(center=(self.window_size/6, self.window_size/15))\n",
    "        \n",
    "        if self.render_mode == \"human\":\n",
    "            # The following line copies our drawings from `canvas` to the visible window\n",
    "            self.window.blit(canvas, canvas.get_rect())\n",
    "            self.window.blit(text, text_rect)\n",
    "            pygame.event.pump()\n",
    "            pygame.display.update()\n",
    "\n",
    "            # We need to ensure that human-rendering occurs at the predefined framerate.\n",
    "            # The following line will automatically add a delay to keep the framerate stable.\n",
    "            self.clock.tick(self.metadata[\"render_fps\"])\n",
    "        else:  # rgb_array\n",
    "            return np.transpose(\n",
    "                np.array(pygame.surfarray.pixels3d(canvas)), axes=(1, 0, 2)\n",
    "            )\n",
    "        \n",
    "    def close(self):\n",
    "        if self.window is not None:\n",
    "            pygame.display.quit()\n",
    "            pygame.quit()\n",
    "    \n",
    "    def reset(self):\n",
    "        \n",
    "        self.state = (np.random.random_sample(size=4)*self.bounds).astype(int)\n",
    "        self.circle_radius = 0 #min(self.height, self.width)\n",
    "        self.timestamp = self.time\n",
    "        \n",
    "        self.log_circles = []\n",
    "        self.log_hero = []\n",
    "        self.window = None\n",
    "        self.clock = None\n",
    "        return self.state\n",
    "    "
   ]
  },
  {
   "cell_type": "code",
   "execution_count": 19,
   "id": "8ccb4679",
   "metadata": {},
   "outputs": [],
   "source": [
    "env = ShrinkingCircleEnv()"
   ]
  },
  {
   "cell_type": "code",
   "execution_count": 20,
   "id": "775e7b8a",
   "metadata": {},
   "outputs": [
    {
     "name": "stdout",
     "output_type": "stream",
     "text": [
      "Episode:1 Score:-278.69081454564684\n",
      "Episode:2 Score:-382.5119579233915\n",
      "Episode:3 Score:-308.10373495434095\n"
     ]
    }
   ],
   "source": [
    "episodes = 3\n",
    "for episode in range(1, episodes+1):\n",
    "    state = env.reset()\n",
    "    done = False\n",
    "    score = 0 \n",
    "    \n",
    "    while not done:\n",
    "        action = env.action_space.sample()\n",
    "        n_state, reward, done, info = env.step(action)\n",
    "#         env.render('human')\n",
    "        score+=reward\n",
    "    print('Episode:{} Score:{}'.format(episode, score))\n",
    "env.close()"
   ]
  },
  {
   "cell_type": "markdown",
   "id": "79157592",
   "metadata": {},
   "source": [
    "### Let's learn the model"
   ]
  },
  {
   "cell_type": "code",
   "execution_count": 21,
   "id": "282c6937",
   "metadata": {},
   "outputs": [],
   "source": [
    "import numpy as np\n",
    "q_table = np.zeros([env.observation_space.n, env.action_space.n])"
   ]
  },
  {
   "cell_type": "code",
   "execution_count": 23,
   "id": "ffe86bca",
   "metadata": {},
   "outputs": [
    {
     "name": "stdout",
     "output_type": "stream",
     "text": [
      "[7. 7. 7. 7.] -0.0 False {}\n"
     ]
    },
    {
     "ename": "IndexError",
     "evalue": "arrays used as indices must be of integer (or boolean) type",
     "output_type": "error",
     "traceback": [
      "\u001b[0;31m---------------------------------------------------------------------------\u001b[0m",
      "\u001b[0;31mIndexError\u001b[0m                                Traceback (most recent call last)",
      "\u001b[0;32m/var/folders/3x/d455jptj4sx6vn87s7q9br9c0000gp/T/ipykernel_1302/3499503981.py\u001b[0m in \u001b[0;36m<module>\u001b[0;34m\u001b[0m\n\u001b[1;32m     27\u001b[0m \u001b[0;34m\u001b[0m\u001b[0m\n\u001b[1;32m     28\u001b[0m         \u001b[0mold_value\u001b[0m \u001b[0;34m=\u001b[0m \u001b[0mq_table\u001b[0m\u001b[0;34m[\u001b[0m\u001b[0mstate\u001b[0m\u001b[0;34m,\u001b[0m \u001b[0maction\u001b[0m\u001b[0;34m]\u001b[0m\u001b[0;34m\u001b[0m\u001b[0;34m\u001b[0m\u001b[0m\n\u001b[0;32m---> 29\u001b[0;31m         \u001b[0mnext_max\u001b[0m \u001b[0;34m=\u001b[0m \u001b[0mnp\u001b[0m\u001b[0;34m.\u001b[0m\u001b[0mmax\u001b[0m\u001b[0;34m(\u001b[0m\u001b[0mq_table\u001b[0m\u001b[0;34m[\u001b[0m\u001b[0mnext_state\u001b[0m\u001b[0;34m]\u001b[0m\u001b[0;34m)\u001b[0m\u001b[0;34m\u001b[0m\u001b[0;34m\u001b[0m\u001b[0m\n\u001b[0m\u001b[1;32m     30\u001b[0m \u001b[0;34m\u001b[0m\u001b[0m\n\u001b[1;32m     31\u001b[0m         \u001b[0mnew_value\u001b[0m \u001b[0;34m=\u001b[0m \u001b[0;34m(\u001b[0m\u001b[0;36m1\u001b[0m \u001b[0;34m-\u001b[0m \u001b[0malpha\u001b[0m\u001b[0;34m)\u001b[0m \u001b[0;34m*\u001b[0m \u001b[0mold_value\u001b[0m \u001b[0;34m+\u001b[0m \u001b[0malpha\u001b[0m \u001b[0;34m*\u001b[0m \u001b[0;34m(\u001b[0m\u001b[0mreward\u001b[0m \u001b[0;34m+\u001b[0m \u001b[0mgamma\u001b[0m \u001b[0;34m*\u001b[0m \u001b[0mnext_max\u001b[0m\u001b[0;34m)\u001b[0m\u001b[0;34m\u001b[0m\u001b[0;34m\u001b[0m\u001b[0m\n",
      "\u001b[0;31mIndexError\u001b[0m: arrays used as indices must be of integer (or boolean) type"
     ]
    }
   ],
   "source": [
    "import random\n",
    "from IPython.display import clear_output\n",
    "\n",
    "# Hyperparameters\n",
    "alpha = 0.1\n",
    "gamma = 0.6\n",
    "epsilon = 0.1\n",
    "\n",
    "# For plotting metrics\n",
    "all_epochs = []\n",
    "all_penalties = []\n",
    "\n",
    "for i in range(1, 100001):\n",
    "    state = env.reset()\n",
    "\n",
    "    epochs, penalties, reward, = 0, 0, 0\n",
    "    done = False\n",
    "    \n",
    "    while not done:\n",
    "        if random.uniform(0, 1) < epsilon:\n",
    "            action = env.action_space.sample() # Explore action space\n",
    "        else:\n",
    "            action = np.argmax(q_table[state]) # Exploit learned values\n",
    "\n",
    "        next_state, reward, done, info = env.step(action) \n",
    "        print(next_state, reward, done, info)\n",
    "        state = state2code(state)\n",
    "        \n",
    "        old_value = q_table[state, action]\n",
    "        next_max = np.max(q_table[next_state])\n",
    "        \n",
    "        new_value = (1 - alpha) * old_value + alpha * (reward + gamma * next_max)\n",
    "        q_table[state, action] = new_value\n",
    "\n",
    "        if reward == -10:\n",
    "            penalties += 1\n",
    "\n",
    "        state = next_state\n",
    "        epochs += 1\n",
    "        \n",
    "    if i % 100 == 0:\n",
    "        clear_output(wait=True)\n",
    "        print(f\"Episode: {i}\")\n",
    "\n",
    "print(\"Training finished.\\n\")"
   ]
  },
  {
   "cell_type": "code",
   "execution_count": 17,
   "id": "7c6dbf9c",
   "metadata": {},
   "outputs": [
    {
     "data": {
      "text/plain": [
       "array([5932.2463552])"
      ]
     },
     "execution_count": 17,
     "metadata": {},
     "output_type": "execute_result"
    }
   ],
   "source": [
    "int(np.random.random_sample(size=1)*9999)"
   ]
  },
  {
   "cell_type": "code",
   "execution_count": null,
   "id": "6cbe763d",
   "metadata": {},
   "outputs": [],
   "source": []
  }
 ],
 "metadata": {
  "kernelspec": {
   "display_name": "Python 3 (ipykernel)",
   "language": "python",
   "name": "python3"
  },
  "language_info": {
   "codemirror_mode": {
    "name": "ipython",
    "version": 3
   },
   "file_extension": ".py",
   "mimetype": "text/x-python",
   "name": "python",
   "nbconvert_exporter": "python",
   "pygments_lexer": "ipython3",
   "version": "3.9.13"
  }
 },
 "nbformat": 4,
 "nbformat_minor": 5
}
