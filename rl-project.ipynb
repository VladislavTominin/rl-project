{
 "cells": [
  {
   "cell_type": "code",
   "execution_count": 1,
   "id": "4e522324",
   "metadata": {
    "scrolled": true
   },
   "outputs": [
    {
     "name": "stdout",
     "output_type": "stream",
     "text": [
      "Requirement already satisfied: tensorflow in /homes/vladtom/miniconda3/lib/python3.10/site-packages (2.11.0)\n",
      "Requirement already satisfied: google-pasta>=0.1.1 in /homes/vladtom/miniconda3/lib/python3.10/site-packages (from tensorflow) (0.2.0)\n",
      "Requirement already satisfied: six>=1.12.0 in /homes/vladtom/miniconda3/lib/python3.10/site-packages (from tensorflow) (1.16.0)\n",
      "Requirement already satisfied: packaging in /homes/vladtom/miniconda3/lib/python3.10/site-packages (from tensorflow) (22.0)\n",
      "Requirement already satisfied: grpcio<2.0,>=1.24.3 in /homes/vladtom/miniconda3/lib/python3.10/site-packages (from tensorflow) (1.42.0)\n",
      "Requirement already satisfied: protobuf<3.20,>=3.9.2 in /homes/vladtom/miniconda3/lib/python3.10/site-packages (from tensorflow) (3.19.6)\n",
      "Requirement already satisfied: opt-einsum>=2.3.2 in /homes/vladtom/miniconda3/lib/python3.10/site-packages (from tensorflow) (3.3.0)\n",
      "Requirement already satisfied: typing-extensions>=3.6.6 in /homes/vladtom/miniconda3/lib/python3.10/site-packages (from tensorflow) (4.4.0)\n",
      "Requirement already satisfied: gast<=0.4.0,>=0.2.1 in /homes/vladtom/miniconda3/lib/python3.10/site-packages (from tensorflow) (0.4.0)\n",
      "Requirement already satisfied: setuptools in /homes/vladtom/miniconda3/lib/python3.10/site-packages (from tensorflow) (65.5.0)\n",
      "Requirement already satisfied: tensorboard<2.12,>=2.11 in /homes/vladtom/miniconda3/lib/python3.10/site-packages (from tensorflow) (2.11.2)\n",
      "Requirement already satisfied: numpy>=1.20 in /homes/vladtom/miniconda3/lib/python3.10/site-packages (from tensorflow) (1.23.5)\n",
      "Requirement already satisfied: tensorflow-estimator<2.12,>=2.11.0 in /homes/vladtom/miniconda3/lib/python3.10/site-packages (from tensorflow) (2.11.0)\n",
      "Requirement already satisfied: h5py>=2.9.0 in /homes/vladtom/miniconda3/lib/python3.10/site-packages (from tensorflow) (3.8.0)\n",
      "Requirement already satisfied: wrapt>=1.11.0 in /homes/vladtom/miniconda3/lib/python3.10/site-packages (from tensorflow) (1.14.1)\n",
      "Requirement already satisfied: tensorflow-io-gcs-filesystem>=0.23.1 in /homes/vladtom/miniconda3/lib/python3.10/site-packages (from tensorflow) (0.30.0)\n",
      "Requirement already satisfied: libclang>=13.0.0 in /homes/vladtom/miniconda3/lib/python3.10/site-packages (from tensorflow) (15.0.6.1)\n",
      "Requirement already satisfied: keras<2.12,>=2.11.0 in /homes/vladtom/miniconda3/lib/python3.10/site-packages (from tensorflow) (2.11.0)\n",
      "Requirement already satisfied: termcolor>=1.1.0 in /homes/vladtom/miniconda3/lib/python3.10/site-packages (from tensorflow) (2.2.0)\n",
      "Requirement already satisfied: flatbuffers>=2.0 in /homes/vladtom/miniconda3/lib/python3.10/site-packages (from tensorflow) (23.1.21)\n",
      "Requirement already satisfied: absl-py>=1.0.0 in /homes/vladtom/miniconda3/lib/python3.10/site-packages (from tensorflow) (1.3.0)\n",
      "Requirement already satisfied: astunparse>=1.6.0 in /homes/vladtom/miniconda3/lib/python3.10/site-packages (from tensorflow) (1.6.3)\n",
      "Requirement already satisfied: wheel<1.0,>=0.23.0 in /homes/vladtom/miniconda3/lib/python3.10/site-packages (from astunparse>=1.6.0->tensorflow) (0.37.1)\n",
      "Requirement already satisfied: google-auth-oauthlib<0.5,>=0.4.1 in /homes/vladtom/miniconda3/lib/python3.10/site-packages (from tensorboard<2.12,>=2.11->tensorflow) (0.4.4)\n",
      "Requirement already satisfied: werkzeug>=1.0.1 in /homes/vladtom/miniconda3/lib/python3.10/site-packages (from tensorboard<2.12,>=2.11->tensorflow) (2.2.2)\n",
      "Requirement already satisfied: tensorboard-data-server<0.7.0,>=0.6.0 in /homes/vladtom/miniconda3/lib/python3.10/site-packages (from tensorboard<2.12,>=2.11->tensorflow) (0.6.1)\n",
      "Requirement already satisfied: google-auth<3,>=1.6.3 in /homes/vladtom/miniconda3/lib/python3.10/site-packages (from tensorboard<2.12,>=2.11->tensorflow) (2.6.0)\n",
      "Requirement already satisfied: markdown>=2.6.8 in /homes/vladtom/miniconda3/lib/python3.10/site-packages (from tensorboard<2.12,>=2.11->tensorflow) (3.4.1)\n",
      "Requirement already satisfied: tensorboard-plugin-wit>=1.6.0 in /homes/vladtom/miniconda3/lib/python3.10/site-packages (from tensorboard<2.12,>=2.11->tensorflow) (1.8.1)\n",
      "Requirement already satisfied: requests<3,>=2.21.0 in /homes/vladtom/miniconda3/lib/python3.10/site-packages (from tensorboard<2.12,>=2.11->tensorflow) (2.28.1)\n",
      "Requirement already satisfied: cachetools<6.0,>=2.0.0 in /homes/vladtom/miniconda3/lib/python3.10/site-packages (from google-auth<3,>=1.6.3->tensorboard<2.12,>=2.11->tensorflow) (4.2.2)\n",
      "Requirement already satisfied: pyasn1-modules>=0.2.1 in /homes/vladtom/miniconda3/lib/python3.10/site-packages (from google-auth<3,>=1.6.3->tensorboard<2.12,>=2.11->tensorflow) (0.2.8)\n",
      "Requirement already satisfied: rsa<5,>=3.1.4 in /homes/vladtom/miniconda3/lib/python3.10/site-packages (from google-auth<3,>=1.6.3->tensorboard<2.12,>=2.11->tensorflow) (4.7.2)\n",
      "Requirement already satisfied: requests-oauthlib>=0.7.0 in /homes/vladtom/miniconda3/lib/python3.10/site-packages (from google-auth-oauthlib<0.5,>=0.4.1->tensorboard<2.12,>=2.11->tensorflow) (1.3.0)\n",
      "Requirement already satisfied: idna<4,>=2.5 in /homes/vladtom/miniconda3/lib/python3.10/site-packages (from requests<3,>=2.21.0->tensorboard<2.12,>=2.11->tensorflow) (3.4)\n",
      "Requirement already satisfied: urllib3<1.27,>=1.21.1 in /homes/vladtom/miniconda3/lib/python3.10/site-packages (from requests<3,>=2.21.0->tensorboard<2.12,>=2.11->tensorflow) (1.26.13)\n",
      "Requirement already satisfied: certifi>=2017.4.17 in /homes/vladtom/miniconda3/lib/python3.10/site-packages (from requests<3,>=2.21.0->tensorboard<2.12,>=2.11->tensorflow) (2022.12.7)\n",
      "Requirement already satisfied: charset-normalizer<3,>=2 in /homes/vladtom/miniconda3/lib/python3.10/site-packages (from requests<3,>=2.21.0->tensorboard<2.12,>=2.11->tensorflow) (2.0.4)\n",
      "Requirement already satisfied: MarkupSafe>=2.1.1 in /homes/vladtom/miniconda3/lib/python3.10/site-packages (from werkzeug>=1.0.1->tensorboard<2.12,>=2.11->tensorflow) (2.1.1)\n",
      "Requirement already satisfied: pyasn1<0.5.0,>=0.4.6 in /homes/vladtom/miniconda3/lib/python3.10/site-packages (from pyasn1-modules>=0.2.1->google-auth<3,>=1.6.3->tensorboard<2.12,>=2.11->tensorflow) (0.4.8)\n",
      "Requirement already satisfied: oauthlib>=3.0.0 in /homes/vladtom/miniconda3/lib/python3.10/site-packages (from requests-oauthlib>=0.7.0->google-auth-oauthlib<0.5,>=0.4.1->tensorboard<2.12,>=2.11->tensorflow) (3.2.1)\n",
      "Requirement already satisfied: gym in /homes/vladtom/miniconda3/lib/python3.10/site-packages (0.26.2)\n",
      "Requirement already satisfied: numpy>=1.18.0 in /homes/vladtom/miniconda3/lib/python3.10/site-packages (from gym) (1.23.5)\n",
      "Requirement already satisfied: cloudpickle>=1.2.0 in /homes/vladtom/miniconda3/lib/python3.10/site-packages (from gym) (2.0.0)\n",
      "Requirement already satisfied: gym-notices>=0.0.4 in /homes/vladtom/miniconda3/lib/python3.10/site-packages (from gym) (0.0.8)\n",
      "Requirement already satisfied: keras in /homes/vladtom/miniconda3/lib/python3.10/site-packages (2.11.0)\n",
      "Requirement already satisfied: keras-rl2 in /homes/vladtom/miniconda3/lib/python3.10/site-packages (1.0.5)\n",
      "Requirement already satisfied: tensorflow in /homes/vladtom/miniconda3/lib/python3.10/site-packages (from keras-rl2) (2.11.0)\n",
      "Requirement already satisfied: tensorflow-io-gcs-filesystem>=0.23.1 in /homes/vladtom/miniconda3/lib/python3.10/site-packages (from tensorflow->keras-rl2) (0.30.0)\n",
      "Requirement already satisfied: tensorboard<2.12,>=2.11 in /homes/vladtom/miniconda3/lib/python3.10/site-packages (from tensorflow->keras-rl2) (2.11.2)\n",
      "Requirement already satisfied: grpcio<2.0,>=1.24.3 in /homes/vladtom/miniconda3/lib/python3.10/site-packages (from tensorflow->keras-rl2) (1.42.0)\n",
      "Requirement already satisfied: opt-einsum>=2.3.2 in /homes/vladtom/miniconda3/lib/python3.10/site-packages (from tensorflow->keras-rl2) (3.3.0)\n",
      "Requirement already satisfied: termcolor>=1.1.0 in /homes/vladtom/miniconda3/lib/python3.10/site-packages (from tensorflow->keras-rl2) (2.2.0)\n",
      "Requirement already satisfied: h5py>=2.9.0 in /homes/vladtom/miniconda3/lib/python3.10/site-packages (from tensorflow->keras-rl2) (3.8.0)\n",
      "Requirement already satisfied: setuptools in /homes/vladtom/miniconda3/lib/python3.10/site-packages (from tensorflow->keras-rl2) (65.5.0)\n",
      "Requirement already satisfied: keras<2.12,>=2.11.0 in /homes/vladtom/miniconda3/lib/python3.10/site-packages (from tensorflow->keras-rl2) (2.11.0)\n",
      "Requirement already satisfied: protobuf<3.20,>=3.9.2 in /homes/vladtom/miniconda3/lib/python3.10/site-packages (from tensorflow->keras-rl2) (3.19.6)\n",
      "Requirement already satisfied: google-pasta>=0.1.1 in /homes/vladtom/miniconda3/lib/python3.10/site-packages (from tensorflow->keras-rl2) (0.2.0)\n",
      "Requirement already satisfied: libclang>=13.0.0 in /homes/vladtom/miniconda3/lib/python3.10/site-packages (from tensorflow->keras-rl2) (15.0.6.1)\n",
      "Requirement already satisfied: numpy>=1.20 in /homes/vladtom/miniconda3/lib/python3.10/site-packages (from tensorflow->keras-rl2) (1.23.5)\n",
      "Requirement already satisfied: tensorflow-estimator<2.12,>=2.11.0 in /homes/vladtom/miniconda3/lib/python3.10/site-packages (from tensorflow->keras-rl2) (2.11.0)\n",
      "Requirement already satisfied: absl-py>=1.0.0 in /homes/vladtom/miniconda3/lib/python3.10/site-packages (from tensorflow->keras-rl2) (1.3.0)\n",
      "Requirement already satisfied: flatbuffers>=2.0 in /homes/vladtom/miniconda3/lib/python3.10/site-packages (from tensorflow->keras-rl2) (23.1.21)\n",
      "Requirement already satisfied: gast<=0.4.0,>=0.2.1 in /homes/vladtom/miniconda3/lib/python3.10/site-packages (from tensorflow->keras-rl2) (0.4.0)\n",
      "Requirement already satisfied: packaging in /homes/vladtom/miniconda3/lib/python3.10/site-packages (from tensorflow->keras-rl2) (22.0)\n",
      "Requirement already satisfied: wrapt>=1.11.0 in /homes/vladtom/miniconda3/lib/python3.10/site-packages (from tensorflow->keras-rl2) (1.14.1)\n",
      "Requirement already satisfied: astunparse>=1.6.0 in /homes/vladtom/miniconda3/lib/python3.10/site-packages (from tensorflow->keras-rl2) (1.6.3)\n",
      "Requirement already satisfied: six>=1.12.0 in /homes/vladtom/miniconda3/lib/python3.10/site-packages (from tensorflow->keras-rl2) (1.16.0)\n",
      "Requirement already satisfied: typing-extensions>=3.6.6 in /homes/vladtom/miniconda3/lib/python3.10/site-packages (from tensorflow->keras-rl2) (4.4.0)\n",
      "Requirement already satisfied: wheel<1.0,>=0.23.0 in /homes/vladtom/miniconda3/lib/python3.10/site-packages (from astunparse>=1.6.0->tensorflow->keras-rl2) (0.37.1)\n"
     ]
    },
    {
     "name": "stdout",
     "output_type": "stream",
     "text": [
      "Requirement already satisfied: requests<3,>=2.21.0 in /homes/vladtom/miniconda3/lib/python3.10/site-packages (from tensorboard<2.12,>=2.11->tensorflow->keras-rl2) (2.28.1)\n",
      "Requirement already satisfied: markdown>=2.6.8 in /homes/vladtom/miniconda3/lib/python3.10/site-packages (from tensorboard<2.12,>=2.11->tensorflow->keras-rl2) (3.4.1)\n",
      "Requirement already satisfied: google-auth<3,>=1.6.3 in /homes/vladtom/miniconda3/lib/python3.10/site-packages (from tensorboard<2.12,>=2.11->tensorflow->keras-rl2) (2.6.0)\n",
      "Requirement already satisfied: tensorboard-data-server<0.7.0,>=0.6.0 in /homes/vladtom/miniconda3/lib/python3.10/site-packages (from tensorboard<2.12,>=2.11->tensorflow->keras-rl2) (0.6.1)\n",
      "Requirement already satisfied: google-auth-oauthlib<0.5,>=0.4.1 in /homes/vladtom/miniconda3/lib/python3.10/site-packages (from tensorboard<2.12,>=2.11->tensorflow->keras-rl2) (0.4.4)\n",
      "Requirement already satisfied: werkzeug>=1.0.1 in /homes/vladtom/miniconda3/lib/python3.10/site-packages (from tensorboard<2.12,>=2.11->tensorflow->keras-rl2) (2.2.2)\n",
      "Requirement already satisfied: tensorboard-plugin-wit>=1.6.0 in /homes/vladtom/miniconda3/lib/python3.10/site-packages (from tensorboard<2.12,>=2.11->tensorflow->keras-rl2) (1.8.1)\n",
      "Requirement already satisfied: rsa<5,>=3.1.4 in /homes/vladtom/miniconda3/lib/python3.10/site-packages (from google-auth<3,>=1.6.3->tensorboard<2.12,>=2.11->tensorflow->keras-rl2) (4.7.2)\n",
      "Requirement already satisfied: cachetools<6.0,>=2.0.0 in /homes/vladtom/miniconda3/lib/python3.10/site-packages (from google-auth<3,>=1.6.3->tensorboard<2.12,>=2.11->tensorflow->keras-rl2) (4.2.2)\n",
      "Requirement already satisfied: pyasn1-modules>=0.2.1 in /homes/vladtom/miniconda3/lib/python3.10/site-packages (from google-auth<3,>=1.6.3->tensorboard<2.12,>=2.11->tensorflow->keras-rl2) (0.2.8)\n",
      "Requirement already satisfied: requests-oauthlib>=0.7.0 in /homes/vladtom/miniconda3/lib/python3.10/site-packages (from google-auth-oauthlib<0.5,>=0.4.1->tensorboard<2.12,>=2.11->tensorflow->keras-rl2) (1.3.0)\n",
      "Requirement already satisfied: idna<4,>=2.5 in /homes/vladtom/miniconda3/lib/python3.10/site-packages (from requests<3,>=2.21.0->tensorboard<2.12,>=2.11->tensorflow->keras-rl2) (3.4)\n",
      "Requirement already satisfied: charset-normalizer<3,>=2 in /homes/vladtom/miniconda3/lib/python3.10/site-packages (from requests<3,>=2.21.0->tensorboard<2.12,>=2.11->tensorflow->keras-rl2) (2.0.4)\n",
      "Requirement already satisfied: urllib3<1.27,>=1.21.1 in /homes/vladtom/miniconda3/lib/python3.10/site-packages (from requests<3,>=2.21.0->tensorboard<2.12,>=2.11->tensorflow->keras-rl2) (1.26.13)\n",
      "Requirement already satisfied: certifi>=2017.4.17 in /homes/vladtom/miniconda3/lib/python3.10/site-packages (from requests<3,>=2.21.0->tensorboard<2.12,>=2.11->tensorflow->keras-rl2) (2022.12.7)\n",
      "Requirement already satisfied: MarkupSafe>=2.1.1 in /homes/vladtom/miniconda3/lib/python3.10/site-packages (from werkzeug>=1.0.1->tensorboard<2.12,>=2.11->tensorflow->keras-rl2) (2.1.1)\n",
      "Requirement already satisfied: pyasn1<0.5.0,>=0.4.6 in /homes/vladtom/miniconda3/lib/python3.10/site-packages (from pyasn1-modules>=0.2.1->google-auth<3,>=1.6.3->tensorboard<2.12,>=2.11->tensorflow->keras-rl2) (0.4.8)\n",
      "Requirement already satisfied: oauthlib>=3.0.0 in /homes/vladtom/miniconda3/lib/python3.10/site-packages (from requests-oauthlib>=0.7.0->google-auth-oauthlib<0.5,>=0.4.1->tensorboard<2.12,>=2.11->tensorflow->keras-rl2) (3.2.1)\n"
     ]
    }
   ],
   "source": [
    "!pip install tensorflow\n",
    "!pip install gym\n",
    "!pip install keras\n",
    "!pip install keras-rl2"
   ]
  },
  {
   "cell_type": "code",
   "execution_count": 1,
   "id": "4daea275",
   "metadata": {},
   "outputs": [],
   "source": [
    "from gym import Env\n",
    "from gym.spaces import Discrete, Box\n",
    "import numpy as np\n",
    "import random\n",
    "from matplotlib import pyplot as plt\n",
    "import matplotlib.animation\n",
    "from IPython.display import display, clear_output"
   ]
  },
  {
   "cell_type": "code",
   "execution_count": 2,
   "id": "7eab60f6",
   "metadata": {},
   "outputs": [],
   "source": [
    "code2action = {\n",
    "    0:np.array([0, 0, 0, 0]),\n",
    "    1:np.array([0, 0, 1, 0]),\n",
    "    2:np.array([0, 0, -1, 0]),\n",
    "    3:np.array([0, 0, 0, 1]),\n",
    "    4:np.array([0, 0, 0, -1]),\n",
    "    5:np.array([0, 0, 1, 1]),\n",
    "    6:np.array([0, 0, 1, -1]),\n",
    "    7:np.array([0, 0, -1, 1]),\n",
    "    8:np.array([0, 0, -1, -1])\n",
    "}\n",
    "\n",
    "class ShrinkingCircleEnv(Env):\n",
    "    width=height=10\n",
    "    time=60\n",
    "    terminated_penalty = 1\n",
    "    def __init__(self):\n",
    "        self.action_space = Discrete(9)\n",
    "        self.bounds = np.array([self.height, self.width, self.height, self.width]) - 1\n",
    "        self.observation_space = Box(np.zeros(4), self.bounds)\n",
    "        \n",
    "        \n",
    "        self.state = (np.random.random_sample(size=4)*self.bounds).astype(int)\n",
    "        \n",
    "        self.circle_radius = 0\n",
    "        \n",
    "        self.timestamp = self.time\n",
    "        \n",
    "        # for rendering\n",
    "        self.log_circles = []\n",
    "        self.log_hero = []\n",
    "\n",
    "        \n",
    "        \n",
    "    def get_reward(self):\n",
    "        circle, hero = self.state[:2], self.state[2:]\n",
    "        return - np.linalg.norm(hero - circle)\n",
    "        \n",
    "    def step(self, action):\n",
    "        new_state = self.state + code2action[action]\n",
    "        terminated = not ((0 <= new_state).all() and (new_state < self.bounds).all())\n",
    "        \n",
    "        self.state = np.clip(new_state, np.zeros(4), self.bounds)\n",
    "        self.timestamp -= 1 \n",
    "        self.truncated = self.timestamp<=0\n",
    "        \n",
    "        reward = self.get_reward()\n",
    "        \n",
    "        # move center of circle with probability 0.05\n",
    "        if np.random.binomial(1, 0.05):\n",
    "            self.state = np.hstack((\n",
    "                (np.random.random_sample(size=4)*self.bounds).astype(int)[:2],\n",
    "                self.state[2:]\n",
    "            ))\n",
    "            \n",
    "        info = {}\n",
    "        return self.state, reward, self.truncated, info\n",
    "    \n",
    "    def render(self, mode):\n",
    "        circle, hero = self.state[:2], self.state[2:]\n",
    "        self.log_circles.append(circle)\n",
    "        self.log_hero.append(hero)\n",
    "        \n",
    "        if self.truncated:\n",
    "            log_circles = np.unique(np.array(self.log_circles), axis=0).T\n",
    "            log_hero = np.array(self.log_hero).T\n",
    "            \n",
    "            color = [str(item/len(log_hero[0])) for item in range(len(log_hero[0]))]\n",
    "            plt.scatter(log_circles[0], log_circles[1], s=20)\n",
    "            plt.scatter(log_hero[0], log_hero[1], c=color, s=20)\n",
    "            plt.plot(log_hero[0], log_hero[1], color='red')\n",
    "            \n",
    "#             for i, point in enumerate(log_hero.T):\n",
    "#                 plt.annotate(str(i), point)\n",
    "                \n",
    "            for i, point in enumerate(log_circles.T):\n",
    "                plt.annotate(str(i), point)\n",
    "            \n",
    "            plt.xlim([-1, 10])\n",
    "            plt.ylim([-1, 10])\n",
    "            plt.grid()\n",
    "            plt.show()\n",
    "    \n",
    "    def reset(self):\n",
    "        \n",
    "        self.state = (np.random.random_sample(size=4)*self.bounds).astype(int)\n",
    "        self.circle_radius = 0 #min(self.height, self.width)\n",
    "        self.timestamp = self.time\n",
    "        \n",
    "        self.log_circles = []\n",
    "        self.log_hero = []\n",
    "        return self.state\n",
    "    "
   ]
  },
  {
   "cell_type": "code",
   "execution_count": 3,
   "id": "8ccb4679",
   "metadata": {},
   "outputs": [
    {
     "name": "stderr",
     "output_type": "stream",
     "text": [
      "/homes/vladtom/miniconda3/lib/python3.10/site-packages/gym/spaces/box.py:127: UserWarning: \u001b[33mWARN: Box bound precision lowered by casting to float32\u001b[0m\n",
      "  logger.warn(f\"Box bound precision lowered by casting to {self.dtype}\")\n"
     ]
    }
   ],
   "source": [
    "env = ShrinkingCircleEnv()"
   ]
  },
  {
   "cell_type": "code",
   "execution_count": 4,
   "id": "775e7b8a",
   "metadata": {},
   "outputs": [
    {
     "name": "stdout",
     "output_type": "stream",
     "text": [
      "Episode:1 Score:-352.0649431246299\n",
      "Episode:2 Score:-406.3344606119349\n",
      "Episode:3 Score:-263.0140409641854\n",
      "Episode:4 Score:-302.7758865334073\n",
      "Episode:5 Score:-340.993322329208\n",
      "Episode:6 Score:-267.4700345673783\n",
      "Episode:7 Score:-251.17380416020364\n",
      "Episode:8 Score:-237.6162536384166\n",
      "Episode:9 Score:-290.73979135083476\n",
      "Episode:10 Score:-355.9901451453402\n"
     ]
    }
   ],
   "source": [
    "episodes = 10\n",
    "for episode in range(1, episodes+1):\n",
    "    state = env.reset()\n",
    "    done = False\n",
    "    score = 0 \n",
    "    \n",
    "    while not done:\n",
    "        #env.render()\n",
    "        action = env.action_space.sample()\n",
    "        n_state, reward, done, info = env.step(action)\n",
    "        score+=reward\n",
    "    print('Episode:{} Score:{}'.format(episode, score))"
   ]
  },
  {
   "cell_type": "markdown",
   "id": "79157592",
   "metadata": {},
   "source": [
    "### Let's learn the model"
   ]
  },
  {
   "cell_type": "code",
   "execution_count": 5,
   "id": "ab46b774",
   "metadata": {},
   "outputs": [
    {
     "name": "stderr",
     "output_type": "stream",
     "text": [
      "2023-02-23 17:55:52.696544: I tensorflow/core/platform/cpu_feature_guard.cc:193] This TensorFlow binary is optimized with oneAPI Deep Neural Network Library (oneDNN) to use the following CPU instructions in performance-critical operations:  AVX2 AVX512F FMA\n",
      "To enable them in other operations, rebuild TensorFlow with the appropriate compiler flags.\n",
      "2023-02-23 17:55:52.881283: W tensorflow/compiler/xla/stream_executor/platform/default/dso_loader.cc:64] Could not load dynamic library 'libcudart.so.11.0'; dlerror: libcudart.so.11.0: cannot open shared object file: No such file or directory; LD_LIBRARY_PATH: /homes/vladtom/miniconda3/lib/python3.10/site-packages/cv2/../../lib64:\n",
      "2023-02-23 17:55:52.881313: I tensorflow/compiler/xla/stream_executor/cuda/cudart_stub.cc:29] Ignore above cudart dlerror if you do not have a GPU set up on your machine.\n",
      "2023-02-23 17:55:53.660399: W tensorflow/compiler/xla/stream_executor/platform/default/dso_loader.cc:64] Could not load dynamic library 'libnvinfer.so.7'; dlerror: libnvinfer.so.7: cannot open shared object file: No such file or directory; LD_LIBRARY_PATH: /homes/vladtom/miniconda3/lib/python3.10/site-packages/cv2/../../lib64:\n",
      "2023-02-23 17:55:53.660626: W tensorflow/compiler/xla/stream_executor/platform/default/dso_loader.cc:64] Could not load dynamic library 'libnvinfer_plugin.so.7'; dlerror: libnvinfer_plugin.so.7: cannot open shared object file: No such file or directory; LD_LIBRARY_PATH: /homes/vladtom/miniconda3/lib/python3.10/site-packages/cv2/../../lib64:\n",
      "2023-02-23 17:55:53.660640: W tensorflow/compiler/tf2tensorrt/utils/py_utils.cc:38] TF-TRT Warning: Cannot dlopen some TensorRT libraries. If you would like to use Nvidia GPU with TensorRT, please make sure the missing libraries mentioned above are installed properly.\n"
     ]
    }
   ],
   "source": [
    "import numpy as np\n",
    "import tensorflow as tf\n",
    "from tensorflow import keras\n",
    "from tensorflow.keras.models import Sequential\n",
    "from tensorflow.keras.layers import Dense, Flatten, CategoryEncoding\n",
    "from tensorflow.keras.optimizers.legacy import Adam"
   ]
  },
  {
   "cell_type": "code",
   "execution_count": 6,
   "id": "eb6312fd",
   "metadata": {},
   "outputs": [],
   "source": [
    "def get_model(states, n_actions=9):\n",
    "    model = Sequential() \n",
    "    model.add(keras.Input(shape=(1,states[0])))\n",
    "    model.add(Dense(1024, activation='relu'))\n",
    "    model.add(Dense(100, activation='relu'))\n",
    "    model.add(Flatten()) \n",
    "    model.add(Dense(n_actions, activation='linear'))\n",
    "    return model"
   ]
  },
  {
   "cell_type": "code",
   "execution_count": 7,
   "id": "bb9b6a78",
   "metadata": {},
   "outputs": [],
   "source": [
    "from rl.agents import DQNAgent\n",
    "from rl.policy import BoltzmannQPolicy\n",
    "from rl.memory import SequentialMemory"
   ]
  },
  {
   "cell_type": "code",
   "execution_count": 8,
   "id": "38ee33c2",
   "metadata": {},
   "outputs": [],
   "source": [
    "def get_agent(model, actions):\n",
    "    policy = BoltzmannQPolicy()\n",
    "    memory = SequentialMemory(limit=50000, window_length=1)\n",
    "    dqn = DQNAgent(model=model, memory=memory, policy=policy, \n",
    "                  nb_actions=actions, nb_steps_warmup=10, target_model_update=1e-2)\n",
    "    return dqn"
   ]
  },
  {
   "cell_type": "code",
   "execution_count": 9,
   "id": "01bcc525",
   "metadata": {
    "scrolled": true
   },
   "outputs": [
    {
     "name": "stderr",
     "output_type": "stream",
     "text": [
      "/homes/vladtom/miniconda3/lib/python3.10/site-packages/keras/optimizers/optimizer_v2/adam.py:117: UserWarning: The `lr` argument is deprecated, use `learning_rate` instead.\n",
      "  super().__init__(name, **kwargs)\n",
      "2023-02-23 17:55:55.165156: W tensorflow/compiler/xla/stream_executor/platform/default/dso_loader.cc:64] Could not load dynamic library 'libcudart.so.11.0'; dlerror: libcudart.so.11.0: cannot open shared object file: No such file or directory; LD_LIBRARY_PATH: /homes/vladtom/miniconda3/lib/python3.10/site-packages/cv2/../../lib64:\n",
      "2023-02-23 17:55:55.165271: W tensorflow/compiler/xla/stream_executor/platform/default/dso_loader.cc:64] Could not load dynamic library 'libcublas.so.11'; dlerror: libcublas.so.11: cannot open shared object file: No such file or directory; LD_LIBRARY_PATH: /homes/vladtom/miniconda3/lib/python3.10/site-packages/cv2/../../lib64:\n",
      "2023-02-23 17:55:55.165328: W tensorflow/compiler/xla/stream_executor/platform/default/dso_loader.cc:64] Could not load dynamic library 'libcublasLt.so.11'; dlerror: libcublasLt.so.11: cannot open shared object file: No such file or directory; LD_LIBRARY_PATH: /homes/vladtom/miniconda3/lib/python3.10/site-packages/cv2/../../lib64:\n",
      "2023-02-23 17:55:55.202064: W tensorflow/compiler/xla/stream_executor/platform/default/dso_loader.cc:64] Could not load dynamic library 'libcusparse.so.11'; dlerror: libcusparse.so.11: cannot open shared object file: No such file or directory; LD_LIBRARY_PATH: /homes/vladtom/miniconda3/lib/python3.10/site-packages/cv2/../../lib64:\n",
      "2023-02-23 17:55:55.202144: W tensorflow/compiler/xla/stream_executor/platform/default/dso_loader.cc:64] Could not load dynamic library 'libcudnn.so.8'; dlerror: libcudnn.so.8: cannot open shared object file: No such file or directory; LD_LIBRARY_PATH: /homes/vladtom/miniconda3/lib/python3.10/site-packages/cv2/../../lib64:\n",
      "2023-02-23 17:55:55.202161: W tensorflow/core/common_runtime/gpu/gpu_device.cc:1934] Cannot dlopen some GPU libraries. Please make sure the missing libraries mentioned above are installed properly if you would like to use GPU. Follow the guide at https://www.tensorflow.org/install/gpu for how to download and setup the required libraries for your platform.\n",
      "Skipping registering GPU devices...\n",
      "2023-02-23 17:55:55.202804: I tensorflow/core/platform/cpu_feature_guard.cc:193] This TensorFlow binary is optimized with oneAPI Deep Neural Network Library (oneDNN) to use the following CPU instructions in performance-critical operations:  AVX2 AVX512F FMA\n",
      "To enable them in other operations, rebuild TensorFlow with the appropriate compiler flags.\n",
      "2023-02-23 17:55:55.221898: I tensorflow/compiler/mlir/mlir_graph_optimization_pass.cc:357] MLIR V1 optimization pass is not enabled\n",
      "2023-02-23 17:55:55.246280: W tensorflow/c/c_api.cc:291] Operation '{name:'dense_2_1/kernel/Assign' id:223 op device:{requested: '', assigned: ''} def:{{{node dense_2_1/kernel/Assign}} = AssignVariableOp[_has_manual_control_dependencies=true, dtype=DT_FLOAT, validate_shape=false](dense_2_1/kernel, dense_2_1/kernel/Initializer/stateless_random_uniform)}}' was changed by setting attribute after it was run by a session. This mutation will have no effect, and will trigger an error in the future. Either don't modify nodes after running them or create a new session.\n"
     ]
    },
    {
     "name": "stdout",
     "output_type": "stream",
     "text": [
      "WARNING:tensorflow:From /homes/vladtom/miniconda3/lib/python3.10/site-packages/tensorflow/python/autograph/pyct/static_analysis/liveness.py:83: Analyzer.lamba_check (from tensorflow.python.autograph.pyct.static_analysis.liveness) is deprecated and will be removed after 2023-09-23.\n",
      "Instructions for updating:\n",
      "Lambda fuctions will be no more assumed to be used in the statement where they are used, or at least in the same block. https://github.com/tensorflow/tensorflow/issues/56089\n"
     ]
    }
   ],
   "source": [
    "n_states = env.observation_space.shape\n",
    "n_actions = env.action_space.n\n",
    "\n",
    "model = get_model(n_states, n_actions)\n",
    "dqn = get_agent(model, n_actions)\n",
    "dqn.compile(Adam(lr=1e-3), metrics=['mae'])"
   ]
  },
  {
   "cell_type": "code",
   "execution_count": 12,
   "id": "8659b778",
   "metadata": {},
   "outputs": [
    {
     "name": "stdout",
     "output_type": "stream",
     "text": [
      "Training for 20000 steps ...\n",
      "Interval 1 (0 steps performed)\n",
      "10000/10000 [==============================] - 109s 11ms/step - reward: -1.3952\n",
      "166 episodes - episode_reward: -83.784 [-163.147, -43.659] - loss: 4.837 - mae: 18.441 - mean_q: -18.240\n",
      "\n",
      "Interval 2 (10000 steps performed)\n",
      "10000/10000 [==============================] - 106s 11ms/step - reward: -1.3677\n",
      "done, took 215.237 seconds\n"
     ]
    },
    {
     "data": {
      "text/plain": [
       "<keras.callbacks.History at 0x7ff6c1235b10>"
      ]
     },
     "execution_count": 12,
     "metadata": {},
     "output_type": "execute_result"
    }
   ],
   "source": [
    "dqn.fit(env, nb_steps=20000, visualize=False, verbose=1)"
   ]
  },
  {
   "cell_type": "code",
   "execution_count": 13,
   "id": "35bed218",
   "metadata": {
    "scrolled": false
   },
   "outputs": [
    {
     "name": "stdout",
     "output_type": "stream",
     "text": [
      "Testing for 3 episodes ...\n"
     ]
    },
    {
     "data": {
      "image/png": "[encoded data removed]",
      "text/plain": [
       "<Figure size 640x480 with 1 Axes>"
      ]
     },
     "metadata": {},
     "output_type": "display_data"
    },
    {
     "name": "stdout",
     "output_type": "stream",
     "text": [
      "Episode 1: reward: -18.912, steps: 60\n"
     ]
    },
    {
     "data": {
      "image/png": "[encoded data removed]",
      "text/plain": [
       "<Figure size 640x480 with 1 Axes>"
      ]
     },
     "metadata": {},
     "output_type": "display_data"
    },
    {
     "name": "stdout",
     "output_type": "stream",
     "text": [
      "Episode 2: reward: -35.861, steps: 60\n"
     ]
    },
    {
     "data": {
      "image/png": "[encoded data removed]",
      "text/plain": [
       "<Figure size 640x480 with 1 Axes>"
      ]
     },
     "metadata": {},
     "output_type": "display_data"
    },
    {
     "name": "stdout",
     "output_type": "stream",
     "text": [
      "Episode 3: reward: -13.398, steps: 60\n",
      "-22.72370357629484\n"
     ]
    }
   ],
   "source": [
    "scores = dqn.test(env, nb_episodes=3, visualize=True)\n",
    "print(np.mean(scores.history['episode_reward']))"
   ]
  },
  {
   "cell_type": "code",
   "execution_count": 12,
   "id": "4971027e",
   "metadata": {},
   "outputs": [],
   "source": [
    "# https://stackoverflow.com/questions/25333732/matplotlib-animation-not-working-in-ipython-notebook-blank-plot"
   ]
  },
  {
   "cell_type": "code",
   "execution_count": null,
   "id": "756b9e72",
   "metadata": {},
   "outputs": [],
   "source": []
  }
 ],
 "metadata": {
  "kernelspec": {
   "display_name": "Python 3 (ipykernel)",
   "language": "python",
   "name": "python3"
  },
  "language_info": {
   "codemirror_mode": {
    "name": "ipython",
    "version": 3
   },
   "file_extension": ".py",
   "mimetype": "text/x-python",
   "name": "python",
   "nbconvert_exporter": "python",
   "pygments_lexer": "ipython3",
   "version": "3.10.8"
  }
 },
 "nbformat": 4,
 "nbformat_minor": 5
}
